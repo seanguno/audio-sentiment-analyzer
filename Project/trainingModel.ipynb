{
 "cells": [
  {
   "cell_type": "code",
   "execution_count": 1,
   "id": "83f70977",
   "metadata": {},
   "outputs": [
    {
     "ename": "NameError",
     "evalue": "name 'aug_transforms' is not defined",
     "output_type": "error",
     "traceback": [
      "\u001b[0;31m---------------------------------------------------------------------------\u001b[0m",
      "\u001b[0;31mNameError\u001b[0m                                 Traceback (most recent call last)",
      "Input \u001b[0;32mIn [1]\u001b[0m, in \u001b[0;36m<cell line: 13>\u001b[0;34m()\u001b[0m\n\u001b[1;32m      8\u001b[0m \u001b[38;5;28;01mimport\u001b[39;00m \u001b[38;5;21;01mos\u001b[39;00m\n\u001b[1;32m     10\u001b[0m path \u001b[38;5;241m=\u001b[39m \u001b[38;5;124m'\u001b[39m\u001b[38;5;124msorted_data\u001b[39m\u001b[38;5;124m'\u001b[39m\n\u001b[0;32m---> 13\u001b[0m tfms \u001b[38;5;241m=\u001b[39m \u001b[43maug_transforms\u001b[49m(do_flip \u001b[38;5;241m=\u001b[39m \u001b[38;5;28;01mFalse\u001b[39;00m, flip_vert \u001b[38;5;241m=\u001b[39m \u001b[38;5;28;01mFalse\u001b[39;00m, max_lighting \u001b[38;5;241m=\u001b[39m \u001b[38;5;241m0.1\u001b[39m, max_zoom \u001b[38;5;241m=\u001b[39m \u001b[38;5;241m1.05\u001b[39m, max_warp \u001b[38;5;241m=\u001b[39m \u001b[38;5;241m0.\u001b[39m, max_rotate \u001b[38;5;241m=\u001b[39m \u001b[38;5;241m5\u001b[39m)\n\u001b[1;32m     14\u001b[0m np\u001b[38;5;241m.\u001b[39mrandom\u001b[38;5;241m.\u001b[39mseed(\u001b[38;5;241m42\u001b[39m)\n\u001b[1;32m     15\u001b[0m data \u001b[38;5;241m=\u001b[39m ImageDataBunch\u001b[38;5;241m.\u001b[39mfrom_folder(path, train \u001b[38;5;241m=\u001b[39m \u001b[38;5;124m\"\u001b[39m\u001b[38;5;124m.\u001b[39m\u001b[38;5;124m\"\u001b[39m, valid_pct \u001b[38;5;241m=\u001b[39m \u001b[38;5;241m0.2\u001b[39m,\n\u001b[1;32m     16\u001b[0m         ds_tfms \u001b[38;5;241m=\u001b[39m tfms, size \u001b[38;5;241m=\u001b[39m \u001b[38;5;241m144\u001b[39m, num_workers \u001b[38;5;241m=\u001b[39m \u001b[38;5;241m4\u001b[39m)\u001b[38;5;241m.\u001b[39mnormalize(imagenet_stats)\n",
      "\u001b[0;31mNameError\u001b[0m: name 'aug_transforms' is not defined"
     ]
    }
   ],
   "source": [
    "from pathlib import Path\n",
    "from fastai.vision import *\n",
    "from fastai import *\n",
    "from pathlib import Path\n",
    "import matplotlib.pyplot as plt\n",
    "import numpy as np\n",
    "import re\n",
    "import os\n",
    "\n",
    "path = 'sorted_data'\n",
    "\n",
    "\n",
    "tfms = aug_transforms(do_flip = False, flip_vert = False, max_lighting = 0.1, max_zoom = 1.05, max_warp = 0., max_rotate = 5)\n",
    "np.random.seed(42)\n",
    "data = ImageDataBunch.from_folder(path, train = \".\", valid_pct = 0.2,\n",
    "        ds_tfms = tfms, size = 144, num_workers = 4).normalize(imagenet_stats)\n",
    "data.classes\n",
    "\n",
    "data.show_batch(rows = 3, figsize = (7, 8))\n",
    "\n",
    "learn = cnn_learner(data, models.resnet34, metrics = accuracy)\n",
    "learn.fit_one_cycle(5)\n",
    "learn.unfreeze()\n",
    "learn.lr_find()\n",
    "learn.recorder.plot()\n",
    "learn.fit_one_cycle(5, max_lr = slice(1e-5, 1e-4))\n",
    "learn.lr_find()\n",
    "learn.recorder.plot()\n",
    "learn.fit_one_cycle(5, max_lr = slice(1e-5, 1e-4))\n",
    "learn.lr_find()\n",
    "learn.recorder.plot()\n",
    "learn.fit_one_cycle(5, max_lr = slice(1e-5, 1e-4))\n",
    "\n",
    "np.random.seed(42)\n",
    "data = ImageDataBunch.from_folder(path, train=\".\", valid_pct=0.2,\n",
    "        ds_tfms=tfms, size=288, num_workers=4).normalize(imagenet_stats)\n",
    "data.batch_size=25\n",
    "\n",
    "learn.data = data\n",
    "data.train_ds[0][0].shape\n",
    "\n",
    "data.classes\n",
    "\n",
    "data.show_batch(rows = 3, figsize = (7, 8))\n",
    "\n",
    "learn.freeze()\n",
    "learn.lr_find()\n",
    "learn.recorder.plot()\n",
    "learn.fit_one_cycle(5, slice(1e-4))\n",
    "learn.unfreeze()\n",
    "learn.lr_find()\n",
    "learn.recorder.plot()\n",
    "learn.fit_one_cycle(5, slice(1e-5,1e-4))\n",
    "learn.lr_find()\n",
    "learn.recorder.plot()\n",
    "learn.fit_one_cycle(5, slice(1e-4))\n",
    "learn.lr_find()\n",
    "learn.recorder.plot()\n",
    "learn.fit_one_cycle(5, slice(1e-5))\n",
    "learn.lr_find()\n",
    "learn.recorder.plot()\n",
    "learn.fit_one_cycle(3, slice(1e-5,1e-4))\n",
    "\n",
    "interp = ClassificationInterpretation.from_learner(learn)\n",
    "\n",
    "losses, idxs = interp.top_losses()\n",
    "\n",
    "len(data.valid_ds) == len(losses) == len(idxs)\n",
    "\n",
    "interp.plot_confusion_matrix(figsize = (12, 12), dpi = 60)\n",
    "\n"
   ]
  },
  {
   "cell_type": "code",
   "execution_count": null,
   "id": "e976aed6-6013-40df-84c9-cdaa6dae33e8",
   "metadata": {},
   "outputs": [],
   "source": []
  }
 ],
 "metadata": {
  "kernelspec": {
   "display_name": "Python 3 (ipykernel)",
   "language": "python",
   "name": "python3"
  },
  "language_info": {
   "codemirror_mode": {
    "name": "ipython",
    "version": 3
   },
   "file_extension": ".py",
   "mimetype": "text/x-python",
   "name": "python",
   "nbconvert_exporter": "python",
   "pygments_lexer": "ipython3",
   "version": "3.9.12"
  }
 },
 "nbformat": 4,
 "nbformat_minor": 5
}
